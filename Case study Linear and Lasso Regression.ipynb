{
 "cells": [
  {
   "cell_type": "code",
   "execution_count": 1,
   "id": "4c9640a4",
   "metadata": {},
   "outputs": [],
   "source": [
    "import pandas as pd\n",
    "import numpy as np\n",
    "import matplotlib.pyplot as plt\n",
    "import seaborn as sns\n",
    "%matplotlib inline"
   ]
  },
  {
   "cell_type": "code",
   "execution_count": 2,
   "id": "5c0c1fb4",
   "metadata": {},
   "outputs": [
    {
     "data": {
      "text/html": [
       "<div>\n",
       "<style scoped>\n",
       "    .dataframe tbody tr th:only-of-type {\n",
       "        vertical-align: middle;\n",
       "    }\n",
       "\n",
       "    .dataframe tbody tr th {\n",
       "        vertical-align: top;\n",
       "    }\n",
       "\n",
       "    .dataframe thead th {\n",
       "        text-align: right;\n",
       "    }\n",
       "</style>\n",
       "<table border=\"1\" class=\"dataframe\">\n",
       "  <thead>\n",
       "    <tr style=\"text-align: right;\">\n",
       "      <th></th>\n",
       "      <th>Year</th>\n",
       "      <th>Price</th>\n",
       "    </tr>\n",
       "  </thead>\n",
       "  <tbody>\n",
       "    <tr>\n",
       "      <th>0</th>\n",
       "      <td>2018</td>\n",
       "      <td>465000</td>\n",
       "    </tr>\n",
       "    <tr>\n",
       "      <th>1</th>\n",
       "      <td>2019</td>\n",
       "      <td>755000</td>\n",
       "    </tr>\n",
       "    <tr>\n",
       "      <th>2</th>\n",
       "      <td>2019</td>\n",
       "      <td>700000</td>\n",
       "    </tr>\n",
       "    <tr>\n",
       "      <th>3</th>\n",
       "      <td>2018</td>\n",
       "      <td>465000</td>\n",
       "    </tr>\n",
       "    <tr>\n",
       "      <th>4</th>\n",
       "      <td>2018</td>\n",
       "      <td>465000</td>\n",
       "    </tr>\n",
       "  </tbody>\n",
       "</table>\n",
       "</div>"
      ],
      "text/plain": [
       "   Year   Price\n",
       "0  2018  465000\n",
       "1  2019  755000\n",
       "2  2019  700000\n",
       "3  2018  465000\n",
       "4  2018  465000"
      ]
     },
     "execution_count": 2,
     "metadata": {},
     "output_type": "execute_result"
    }
   ],
   "source": [
    "data=pd.read_csv(r\"D:\\ICT Academy\\Machine Learning\\Regression case study\\car_age_price.csv\")\n",
    "data.head()"
   ]
  },
  {
   "cell_type": "code",
   "execution_count": 3,
   "id": "1c9b1b57",
   "metadata": {},
   "outputs": [
    {
     "data": {
      "text/plain": [
       "Index(['Year', 'Price'], dtype='object')"
      ]
     },
     "execution_count": 3,
     "metadata": {},
     "output_type": "execute_result"
    }
   ],
   "source": [
    "data.columns"
   ]
  },
  {
   "cell_type": "code",
   "execution_count": 4,
   "id": "18aefe3e",
   "metadata": {},
   "outputs": [],
   "source": [
    "x=data.drop(['Price'],axis=1)\n",
    "y=data['Price']"
   ]
  },
  {
   "cell_type": "code",
   "execution_count": 5,
   "id": "0e6d2872",
   "metadata": {},
   "outputs": [],
   "source": [
    "from sklearn.model_selection import train_test_split"
   ]
  },
  {
   "cell_type": "code",
   "execution_count": 6,
   "id": "0fc48426",
   "metadata": {},
   "outputs": [],
   "source": [
    "X_train,X_test,Y_train,Y_test=train_test_split(x,y,random_state=42,test_size=0.2)"
   ]
  },
  {
   "cell_type": "code",
   "execution_count": 7,
   "id": "84caa062",
   "metadata": {},
   "outputs": [],
   "source": [
    "from sklearn.linear_model import LinearRegression,Lasso\n",
    "lr=LinearRegression()\n",
    "las=Lasso(alpha=1.0)"
   ]
  },
  {
   "cell_type": "code",
   "execution_count": 8,
   "id": "6d740c8a",
   "metadata": {},
   "outputs": [],
   "source": [
    "#Linear Regression"
   ]
  },
  {
   "cell_type": "code",
   "execution_count": 9,
   "id": "1277ed66",
   "metadata": {},
   "outputs": [],
   "source": [
    "model=lr.fit(X_train,Y_train)\n",
    "prediction=model.predict(X_test)"
   ]
  },
  {
   "cell_type": "code",
   "execution_count": 10,
   "id": "e9d923aa",
   "metadata": {},
   "outputs": [
    {
     "name": "stderr",
     "output_type": "stream",
     "text": [
      "C:\\Python\\lib\\site-packages\\sklearn\\base.py:450: UserWarning: X does not have valid feature names, but LinearRegression was fitted with feature names\n",
      "  warnings.warn(\n"
     ]
    }
   ],
   "source": [
    "prediction2022=model.predict([[2022]])"
   ]
  },
  {
   "cell_type": "code",
   "execution_count": 11,
   "id": "4f66f12d",
   "metadata": {},
   "outputs": [
    {
     "name": "stdout",
     "output_type": "stream",
     "text": [
      "prediction of possible price of 2022 model 743601.6159450412\n"
     ]
    }
   ],
   "source": [
    "print('prediction of possible price of 2022 model',float(prediction2022))"
   ]
  },
  {
   "cell_type": "code",
   "execution_count": 12,
   "id": "8d6ba1d0",
   "metadata": {},
   "outputs": [],
   "source": [
    "from sklearn.metrics import mean_squared_error,r2_score\n"
   ]
  },
  {
   "cell_type": "code",
   "execution_count": 13,
   "id": "53c29faa",
   "metadata": {},
   "outputs": [
    {
     "name": "stdout",
     "output_type": "stream",
     "text": [
      "Mean Square Error Is: 4326906256.829671\n",
      "R Square Error Is: 0.36759313425902185\n"
     ]
    }
   ],
   "source": [
    "mse_lr=mean_squared_error(Y_test,prediction)\n",
    "print('Mean Square Error Is:',mean_squared_error(Y_test,prediction))\n",
    "print('R Square Error Is:',r2_score(Y_test,prediction))"
   ]
  },
  {
   "cell_type": "code",
   "execution_count": 14,
   "id": "577e7488",
   "metadata": {},
   "outputs": [],
   "source": [
    "#Lasso Regression"
   ]
  },
  {
   "cell_type": "code",
   "execution_count": 15,
   "id": "b09376ba",
   "metadata": {},
   "outputs": [],
   "source": [
    "model_1=las.fit(X_train,Y_train)\n",
    "prediction=model_1.predict(X_test)\n"
   ]
  },
  {
   "cell_type": "code",
   "execution_count": 16,
   "id": "0394542e",
   "metadata": {},
   "outputs": [
    {
     "name": "stdout",
     "output_type": "stream",
     "text": [
      "prediction of possible price of 2022 model 743599.3742714375\n"
     ]
    },
    {
     "name": "stderr",
     "output_type": "stream",
     "text": [
      "C:\\Python\\lib\\site-packages\\sklearn\\base.py:450: UserWarning: X does not have valid feature names, but Lasso was fitted with feature names\n",
      "  warnings.warn(\n"
     ]
    }
   ],
   "source": [
    "prediction2022=model_1.predict([[2022]])\n",
    "print('prediction of possible price of 2022 model',float(prediction2022))"
   ]
  },
  {
   "cell_type": "code",
   "execution_count": 17,
   "id": "8d743759",
   "metadata": {},
   "outputs": [
    {
     "name": "stdout",
     "output_type": "stream",
     "text": [
      "Mean Square Error Is: 4326859771.015669\n",
      "R Square Error Is: 0.3675999284778446\n"
     ]
    }
   ],
   "source": [
    "mse_las=mean_squared_error(Y_test,prediction)\n",
    "print('Mean Square Error Is:',mean_squared_error(Y_test,prediction))\n",
    "print('R Square Error Is:',r2_score(Y_test,prediction))"
   ]
  },
  {
   "cell_type": "code",
   "execution_count": 18,
   "id": "b0d9fdc5",
   "metadata": {},
   "outputs": [],
   "source": [
    "#comparing the values"
   ]
  },
  {
   "cell_type": "code",
   "execution_count": 19,
   "id": "93d62b1e",
   "metadata": {},
   "outputs": [
    {
     "data": {
      "text/plain": [
       "46485.81400203705"
      ]
     },
     "execution_count": 19,
     "metadata": {},
     "output_type": "execute_result"
    }
   ],
   "source": [
    "diff=mse_lr-mse_las\n",
    "diff"
   ]
  },
  {
   "cell_type": "code",
   "execution_count": 20,
   "id": "f3664f23",
   "metadata": {},
   "outputs": [],
   "source": [
    "#as the mean squared error value of the Lasso regresssion is less, This model is better"
   ]
  },
  {
   "cell_type": "code",
   "execution_count": 21,
   "id": "85c3ec82",
   "metadata": {},
   "outputs": [],
   "source": [
    "#the concept behind the means squared error is to be minimum"
   ]
  },
  {
   "cell_type": "code",
   "execution_count": 22,
   "id": "91362c8d",
   "metadata": {},
   "outputs": [],
   "source": [
    "#the corresponding the price second hand price of the vechicle in 2022"
   ]
  },
  {
   "cell_type": "code",
   "execution_count": 24,
   "id": "65f6087b",
   "metadata": {},
   "outputs": [
    {
     "name": "stdout",
     "output_type": "stream",
     "text": [
      "Second-hand-2022 price predicted by the best model = 743599.37\n"
     ]
    }
   ],
   "source": [
    "print('Second-hand-2022 price predicted by the best model = %.2f'%float(prediction2022))"
   ]
  },
  {
   "cell_type": "code",
   "execution_count": null,
   "id": "ea214342",
   "metadata": {},
   "outputs": [],
   "source": []
  }
 ],
 "metadata": {
  "kernelspec": {
   "display_name": "Python 3 (ipykernel)",
   "language": "python",
   "name": "python3"
  },
  "language_info": {
   "codemirror_mode": {
    "name": "ipython",
    "version": 3
   },
   "file_extension": ".py",
   "mimetype": "text/x-python",
   "name": "python",
   "nbconvert_exporter": "python",
   "pygments_lexer": "ipython3",
   "version": "3.10.4"
  }
 },
 "nbformat": 4,
 "nbformat_minor": 5
}
