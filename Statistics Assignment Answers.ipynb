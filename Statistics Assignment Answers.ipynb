{
 "cells": [
  {
   "cell_type": "code",
   "execution_count": 1,
   "id": "6d5eec63",
   "metadata": {},
   "outputs": [],
   "source": [
    "import statistics as stat\n",
    "import pandas as pd\n",
    "import seaborn as sns\n",
    "import numpy as np\n",
    "import matplotlib.pyplot as plt\n",
    "%matplotlib inline"
   ]
  },
  {
   "cell_type": "code",
   "execution_count": 2,
   "id": "38cbab31",
   "metadata": {},
   "outputs": [
    {
     "data": {
      "text/html": [
       "<div>\n",
       "<style scoped>\n",
       "    .dataframe tbody tr th:only-of-type {\n",
       "        vertical-align: middle;\n",
       "    }\n",
       "\n",
       "    .dataframe tbody tr th {\n",
       "        vertical-align: top;\n",
       "    }\n",
       "\n",
       "    .dataframe thead th {\n",
       "        text-align: right;\n",
       "    }\n",
       "</style>\n",
       "<table border=\"1\" class=\"dataframe\">\n",
       "  <thead>\n",
       "    <tr style=\"text-align: right;\">\n",
       "      <th></th>\n",
       "      <th>gender</th>\n",
       "      <th>race/ethnicity</th>\n",
       "      <th>parental level of education</th>\n",
       "      <th>lunch</th>\n",
       "      <th>test preparation course</th>\n",
       "      <th>math score</th>\n",
       "      <th>reading score</th>\n",
       "      <th>writing score</th>\n",
       "    </tr>\n",
       "  </thead>\n",
       "  <tbody>\n",
       "    <tr>\n",
       "      <th>0</th>\n",
       "      <td>female</td>\n",
       "      <td>group C</td>\n",
       "      <td>some high school</td>\n",
       "      <td>free/reduced</td>\n",
       "      <td>none</td>\n",
       "      <td>0</td>\n",
       "      <td>17</td>\n",
       "      <td>10</td>\n",
       "    </tr>\n",
       "    <tr>\n",
       "      <th>1</th>\n",
       "      <td>female</td>\n",
       "      <td>group B</td>\n",
       "      <td>high school</td>\n",
       "      <td>free/reduced</td>\n",
       "      <td>none</td>\n",
       "      <td>8</td>\n",
       "      <td>24</td>\n",
       "      <td>23</td>\n",
       "    </tr>\n",
       "    <tr>\n",
       "      <th>2</th>\n",
       "      <td>female</td>\n",
       "      <td>group B</td>\n",
       "      <td>some high school</td>\n",
       "      <td>free/reduced</td>\n",
       "      <td>none</td>\n",
       "      <td>18</td>\n",
       "      <td>32</td>\n",
       "      <td>28</td>\n",
       "    </tr>\n",
       "    <tr>\n",
       "      <th>3</th>\n",
       "      <td>female</td>\n",
       "      <td>group B</td>\n",
       "      <td>some college</td>\n",
       "      <td>standard</td>\n",
       "      <td>none</td>\n",
       "      <td>11</td>\n",
       "      <td>38</td>\n",
       "      <td>32</td>\n",
       "    </tr>\n",
       "    <tr>\n",
       "      <th>4</th>\n",
       "      <td>female</td>\n",
       "      <td>group C</td>\n",
       "      <td>some college</td>\n",
       "      <td>free/reduced</td>\n",
       "      <td>none</td>\n",
       "      <td>22</td>\n",
       "      <td>39</td>\n",
       "      <td>33</td>\n",
       "    </tr>\n",
       "  </tbody>\n",
       "</table>\n",
       "</div>"
      ],
      "text/plain": [
       "   gender race/ethnicity parental level of education         lunch  \\\n",
       "0  female        group C            some high school  free/reduced   \n",
       "1  female        group B                 high school  free/reduced   \n",
       "2  female        group B            some high school  free/reduced   \n",
       "3  female        group B                some college      standard   \n",
       "4  female        group C                some college  free/reduced   \n",
       "\n",
       "  test preparation course  math score  reading score  writing score  \n",
       "0                    none           0             17             10  \n",
       "1                    none           8             24             23  \n",
       "2                    none          18             32             28  \n",
       "3                    none          11             38             32  \n",
       "4                    none          22             39             33  "
      ]
     },
     "execution_count": 2,
     "metadata": {},
     "output_type": "execute_result"
    }
   ],
   "source": [
    "oo=pd.read_csv(r\"D:\\ICT Academy\\StudentsPerformance.csv\")\n",
    "oo.head()"
   ]
  },
  {
   "cell_type": "code",
   "execution_count": 60,
   "id": "45bda3a3",
   "metadata": {},
   "outputs": [],
   "source": [
    "#Question 1:-How many males and females participated in the test"
   ]
  },
  {
   "cell_type": "code",
   "execution_count": 3,
   "id": "39727e91",
   "metadata": {},
   "outputs": [],
   "source": [
    "#Number of Female"
   ]
  },
  {
   "cell_type": "code",
   "execution_count": 4,
   "id": "c7b64f28",
   "metadata": {},
   "outputs": [],
   "source": [
    "female=(oo[\"gender\"]=='female').sum()"
   ]
  },
  {
   "cell_type": "code",
   "execution_count": 5,
   "id": "650cea5c",
   "metadata": {},
   "outputs": [],
   "source": [
    "#Number of Male"
   ]
  },
  {
   "cell_type": "code",
   "execution_count": 6,
   "id": "c4eab9e6",
   "metadata": {},
   "outputs": [],
   "source": [
    "male=(oo[\"gender\"]=='male').sum()"
   ]
  },
  {
   "cell_type": "code",
   "execution_count": 7,
   "id": "0e4b2209",
   "metadata": {},
   "outputs": [
    {
     "name": "stdout",
     "output_type": "stream",
     "text": [
      "No of male participants= 482\n",
      "No of female participants= 518\n"
     ]
    }
   ],
   "source": [
    "print(\"No of male participants=\",male)\n",
    "print(\"No of female participants=\",female)"
   ]
  },
  {
   "cell_type": "code",
   "execution_count": 8,
   "id": "6a776fb5",
   "metadata": {},
   "outputs": [],
   "source": [
    "#Question 2:- What do you think about the students parental level of education"
   ]
  },
  {
   "cell_type": "code",
   "execution_count": 9,
   "id": "7b9af7bd",
   "metadata": {},
   "outputs": [
    {
     "name": "stdout",
     "output_type": "stream",
     "text": [
      "Different type of Parental level of Educations are\n",
      " ['some high school' 'high school' 'some college' \"associate's degree\"\n",
      " \"bachelor's degree\" \"master's degree\"]\n"
     ]
    }
   ],
   "source": [
    "un=oo[\"parental level of education\"].unique()\n",
    "print(\"Different type of Parental level of Educations are\\n\",un)"
   ]
  },
  {
   "cell_type": "code",
   "execution_count": 10,
   "id": "3583ef42",
   "metadata": {},
   "outputs": [],
   "source": [
    "#percentage value of each parental level of educations"
   ]
  },
  {
   "cell_type": "code",
   "execution_count": 11,
   "id": "477038da",
   "metadata": {},
   "outputs": [],
   "source": [
    "number=(oo[\"parental level of education\"]).count()"
   ]
  },
  {
   "cell_type": "code",
   "execution_count": 12,
   "id": "f2d20b19",
   "metadata": {},
   "outputs": [
    {
     "data": {
      "text/plain": [
       "17.9"
      ]
     },
     "execution_count": 12,
     "metadata": {},
     "output_type": "execute_result"
    }
   ],
   "source": [
    "((oo[\"parental level of education\"]==\"some high school\").sum()/number)*100"
   ]
  },
  {
   "cell_type": "code",
   "execution_count": 13,
   "id": "4d50f041",
   "metadata": {},
   "outputs": [
    {
     "data": {
      "text/plain": [
       "19.6"
      ]
     },
     "execution_count": 13,
     "metadata": {},
     "output_type": "execute_result"
    }
   ],
   "source": [
    "((oo[\"parental level of education\"]==\"high school\").sum()/number)*100"
   ]
  },
  {
   "cell_type": "code",
   "execution_count": 14,
   "id": "c8f50d98",
   "metadata": {},
   "outputs": [
    {
     "data": {
      "text/plain": [
       "22.6"
      ]
     },
     "execution_count": 14,
     "metadata": {},
     "output_type": "execute_result"
    }
   ],
   "source": [
    "((oo[\"parental level of education\"]==\"some college\").sum()/number)*100"
   ]
  },
  {
   "cell_type": "code",
   "execution_count": 15,
   "id": "51f1036b",
   "metadata": {},
   "outputs": [
    {
     "data": {
      "text/plain": [
       "22.2"
      ]
     },
     "execution_count": 15,
     "metadata": {},
     "output_type": "execute_result"
    }
   ],
   "source": [
    "((oo[\"parental level of education\"]==\"associate's degree\").sum()/number)*100"
   ]
  },
  {
   "cell_type": "code",
   "execution_count": 16,
   "id": "f8fb6704",
   "metadata": {},
   "outputs": [
    {
     "data": {
      "text/plain": [
       "11.799999999999999"
      ]
     },
     "execution_count": 16,
     "metadata": {},
     "output_type": "execute_result"
    }
   ],
   "source": [
    "((oo[\"parental level of education\"]==\"bachelor's degree\").sum()/number)*100"
   ]
  },
  {
   "cell_type": "code",
   "execution_count": 17,
   "id": "b7fac653",
   "metadata": {},
   "outputs": [
    {
     "data": {
      "text/plain": [
       "5.8999999999999995"
      ]
     },
     "execution_count": 17,
     "metadata": {},
     "output_type": "execute_result"
    }
   ],
   "source": [
    "((oo[\"parental level of education\"]==\"master's degree\").sum()/number)*100"
   ]
  },
  {
   "cell_type": "code",
   "execution_count": 18,
   "id": "57ec5207",
   "metadata": {},
   "outputs": [],
   "source": [
    "#plot of differnt parental level educations"
   ]
  },
  {
   "cell_type": "code",
   "execution_count": 20,
   "id": "22158af7",
   "metadata": {},
   "outputs": [
    {
     "name": "stderr",
     "output_type": "stream",
     "text": [
      "C:\\Python\\lib\\site-packages\\seaborn\\_decorators.py:36: FutureWarning: Pass the following variable as a keyword arg: x. From version 0.12, the only valid positional argument will be `data`, and passing other arguments without an explicit keyword will result in an error or misinterpretation.\n",
      "  warnings.warn(\n"
     ]
    },
    {
     "data": {
      "image/png": "[encoded data removed]",
      "text/plain": [
       "<Figure size 432x288 with 1 Axes>"
      ]
     },
     "metadata": {
      "needs_background": "light"
     },
     "output_type": "display_data"
    }
   ],
   "source": [
    "plt.xticks(rotation=90);\n",
    "sns.countplot(oo[\"parental level of education\"]);\n"
   ]
  },
  {
   "cell_type": "code",
   "execution_count": 21,
   "id": "d937202c",
   "metadata": {},
   "outputs": [],
   "source": [
    "#Question 3: Who scores the most on average for math,reading and writing based on gender,test preparation course"
   ]
  },
  {
   "cell_type": "code",
   "execution_count": 22,
   "id": "7344b98b",
   "metadata": {},
   "outputs": [],
   "source": [
    "oom=np.mean(oo[\"math score\"])\n",
    "oor=np.mean(oo[\"reading score\"])\n",
    "oow=np.mean(oo[\"writing score\"])"
   ]
  },
  {
   "cell_type": "code",
   "execution_count": 23,
   "id": "fd88ebbd",
   "metadata": {},
   "outputs": [],
   "source": [
    "#Based on Gender"
   ]
  },
  {
   "cell_type": "code",
   "execution_count": 24,
   "id": "dd745000",
   "metadata": {},
   "outputs": [],
   "source": [
    "fe=oo[oo[\"gender\"]=='female']\n",
    "me=oo[oo[\"gender\"]=='male']"
   ]
  },
  {
   "cell_type": "code",
   "execution_count": 25,
   "id": "ee55dfc0",
   "metadata": {},
   "outputs": [],
   "source": [
    "fem=np.mean(fe[\"math score\"])\n",
    "fer=np.mean(fe[\"reading score\"])\n",
    "few=np.mean(fe[\"writing score\"])"
   ]
  },
  {
   "cell_type": "code",
   "execution_count": 26,
   "id": "716145b3",
   "metadata": {},
   "outputs": [],
   "source": [
    "mem=np.mean(me[\"math score\"])\n",
    "mer=np.mean(me[\"reading score\"])\n",
    "mew=np.mean(me[\"writing score\"])"
   ]
  },
  {
   "cell_type": "code",
   "execution_count": 27,
   "id": "403d3e70",
   "metadata": {},
   "outputs": [
    {
     "name": "stdout",
     "output_type": "stream",
     "text": [
      "males scores the most on average in maths\n"
     ]
    }
   ],
   "source": [
    "if(fem>=oom):\n",
    "    print(\"Females scores the most on average in maths\")\n",
    "else:\n",
    "    print(\"males scores the most on average in maths\")"
   ]
  },
  {
   "cell_type": "code",
   "execution_count": 28,
   "id": "b8836ff4",
   "metadata": {},
   "outputs": [
    {
     "name": "stdout",
     "output_type": "stream",
     "text": [
      "Females scores the most on average in reading\n"
     ]
    }
   ],
   "source": [
    "if(fer>=oor):\n",
    "    print(\"Females scores the most on average in reading\")\n",
    "else:\n",
    "    print(\"males scores the most on average in reading\")"
   ]
  },
  {
   "cell_type": "code",
   "execution_count": 29,
   "id": "44befea1",
   "metadata": {},
   "outputs": [
    {
     "name": "stdout",
     "output_type": "stream",
     "text": [
      "Females scores the most on average in writing\n"
     ]
    }
   ],
   "source": [
    "if(few>=oow):\n",
    "    print(\"Females scores the most on average in writing\")\n",
    "else:\n",
    "    print(\"males scores the most on average writing\")"
   ]
  },
  {
   "cell_type": "code",
   "execution_count": 30,
   "id": "47e4af0d",
   "metadata": {},
   "outputs": [],
   "source": [
    "#Based on Test prepartion Course"
   ]
  },
  {
   "cell_type": "code",
   "execution_count": 31,
   "id": "11e85a6a",
   "metadata": {},
   "outputs": [
    {
     "data": {
      "text/plain": [
       "array(['none', 'completed'], dtype=object)"
      ]
     },
     "execution_count": 31,
     "metadata": {},
     "output_type": "execute_result"
    }
   ],
   "source": [
    "tc=oo[\"test preparation course\"].unique()\n",
    "tc"
   ]
  },
  {
   "cell_type": "code",
   "execution_count": 32,
   "id": "9dce98de",
   "metadata": {},
   "outputs": [],
   "source": [
    "on=oo[oo[\"test preparation course\"]=='none']\n",
    "oc=oo[oo[\"test preparation course\"]=='completed']"
   ]
  },
  {
   "cell_type": "code",
   "execution_count": 33,
   "id": "fb080cef",
   "metadata": {},
   "outputs": [],
   "source": [
    "onm=np.mean(on[\"math score\"])\n",
    "onr=np.mean(on[\"reading score\"])\n",
    "onw=np.mean(on[\"writing score\"])"
   ]
  },
  {
   "cell_type": "code",
   "execution_count": 34,
   "id": "66e46a97",
   "metadata": {},
   "outputs": [],
   "source": [
    "ocm=np.mean(oc[\"math score\"])\n",
    "ocr=np.mean(oc[\"reading score\"])\n",
    "ocw=np.mean(oc[\"writing score\"])"
   ]
  },
  {
   "cell_type": "code",
   "execution_count": 35,
   "id": "15934ffd",
   "metadata": {},
   "outputs": [],
   "source": [
    "#comparing the mean of test score of No test preparation course to Complete test prepartion Course"
   ]
  },
  {
   "cell_type": "code",
   "execution_count": 36,
   "id": "0c16b391",
   "metadata": {},
   "outputs": [
    {
     "name": "stdout",
     "output_type": "stream",
     "text": [
      "completed test prepation resulted better result in maths\n"
     ]
    }
   ],
   "source": [
    "if(ocm>onm):\n",
    "    print(\"completed test prepation resulted better result in maths\")\n",
    "else:\n",
    "    print(\"completed test prepation resulted better result in maths\")"
   ]
  },
  {
   "cell_type": "code",
   "execution_count": 37,
   "id": "1fe52e6e",
   "metadata": {},
   "outputs": [
    {
     "name": "stdout",
     "output_type": "stream",
     "text": [
      "completed test prepation resulted better result in reading\n"
     ]
    }
   ],
   "source": [
    "if(ocr>onr):\n",
    "    print(\"completed test prepation resulted better result in reading\")\n",
    "else:\n",
    "    print(\"completed test prepation resulted better result in reading\")"
   ]
  },
  {
   "cell_type": "code",
   "execution_count": 38,
   "id": "e78f743d",
   "metadata": {},
   "outputs": [
    {
     "name": "stdout",
     "output_type": "stream",
     "text": [
      "completed test prepation resulted better result in writing\n"
     ]
    }
   ],
   "source": [
    "if(ocw>onw):\n",
    "    print(\"completed test prepation resulted better result in writing\")\n",
    "else:\n",
    "    print(\"completed test prepation resulted better result in writing\")"
   ]
  },
  {
   "cell_type": "code",
   "execution_count": 39,
   "id": "33878c0c",
   "metadata": {},
   "outputs": [],
   "source": [
    "#comparing the mean score of each(complete and none) with total mean"
   ]
  },
  {
   "cell_type": "code",
   "execution_count": 40,
   "id": "c2d748bf",
   "metadata": {},
   "outputs": [
    {
     "name": "stdout",
     "output_type": "stream",
     "text": [
      "Completed test preparation score more than average in maths\n"
     ]
    }
   ],
   "source": [
    "if(onm>oom):\n",
    "    print(\"no test preparation score more than average in maths\")\n",
    "else:\n",
    "    print(\"Completed test preparation score more than average in maths\")"
   ]
  },
  {
   "cell_type": "code",
   "execution_count": 41,
   "id": "6440537b",
   "metadata": {},
   "outputs": [
    {
     "name": "stdout",
     "output_type": "stream",
     "text": [
      "Completed test preparation score more than average in reading\n"
     ]
    }
   ],
   "source": [
    "if(onr>oor):\n",
    "    print(\"no test preparation score more than average in reading\")\n",
    "else:\n",
    "    print(\"Completed test preparation score more than average in reading\")"
   ]
  },
  {
   "cell_type": "code",
   "execution_count": 42,
   "id": "bf1d8c2a",
   "metadata": {},
   "outputs": [
    {
     "name": "stdout",
     "output_type": "stream",
     "text": [
      "Completed test preparation score more than average in writing\n"
     ]
    }
   ],
   "source": [
    "if(onw>oow):\n",
    "    print(\"no test preparation score more than average in writing\")\n",
    "else:\n",
    "    print(\"Completed test preparation score more than average in writing\")"
   ]
  },
  {
   "cell_type": "code",
   "execution_count": 43,
   "id": "da16274a",
   "metadata": {},
   "outputs": [],
   "source": [
    "#Question 4:What do you think about the scoring variation for math,reading and writing based"
   ]
  },
  {
   "cell_type": "code",
   "execution_count": 44,
   "id": "8e344866",
   "metadata": {},
   "outputs": [],
   "source": [
    "#based on Gender"
   ]
  },
  {
   "cell_type": "code",
   "execution_count": 45,
   "id": "b6ccbb53",
   "metadata": {},
   "outputs": [],
   "source": [
    "femv=stat.variance(fe[\"math score\"])\n",
    "ferv=stat.variance(fe[\"reading score\"])\n",
    "fewv=stat.variance(fe[\"writing score\"])"
   ]
  },
  {
   "cell_type": "code",
   "execution_count": 46,
   "id": "13cd975e",
   "metadata": {},
   "outputs": [],
   "source": [
    "memv=stat.variance(me[\"math score\"])\n",
    "merv=stat.variance(me[\"reading score\"])\n",
    "mewv=stat.variance(me[\"writing score\"])"
   ]
  },
  {
   "cell_type": "code",
   "execution_count": 47,
   "id": "18171dfd",
   "metadata": {},
   "outputs": [
    {
     "name": "stdout",
     "output_type": "stream",
     "text": [
      "Variance of Females is more than Male in maths\n"
     ]
    }
   ],
   "source": [
    "if(femv>memv):\n",
    "    print(\"Variance of Females is more than Male in maths\")\n",
    "else:\n",
    "    print(\"variance of male is more than female in maths\")"
   ]
  },
  {
   "cell_type": "code",
   "execution_count": 48,
   "id": "f0e653f2",
   "metadata": {},
   "outputs": [
    {
     "name": "stdout",
     "output_type": "stream",
     "text": [
      "Variance of Females is more than Male in reading\n"
     ]
    }
   ],
   "source": [
    "if(ferv>merv):\n",
    "    print(\"Variance of Females is more than Male in reading\")\n",
    "else:\n",
    "    print(\"variance of male is more than female in reading\")"
   ]
  },
  {
   "cell_type": "code",
   "execution_count": 49,
   "id": "71f5e2a4",
   "metadata": {},
   "outputs": [
    {
     "name": "stdout",
     "output_type": "stream",
     "text": [
      "Variance of Females is more than Male in writing\n"
     ]
    }
   ],
   "source": [
    "if(fewv>mewv):\n",
    "    print(\"Variance of Females is more than Male in writing\")\n",
    "else:\n",
    "    print(\"variance of male is more than female in writing\")"
   ]
  },
  {
   "cell_type": "code",
   "execution_count": 50,
   "id": "ac4fb0a1",
   "metadata": {},
   "outputs": [],
   "source": [
    "#based on the test preparation course"
   ]
  },
  {
   "cell_type": "code",
   "execution_count": 51,
   "id": "6d44dff5",
   "metadata": {},
   "outputs": [],
   "source": [
    "onmv=stat.variance(on[\"math score\"])\n",
    "onrv=stat.variance(on[\"reading score\"])\n",
    "onwv=stat.variance(on[\"writing score\"])"
   ]
  },
  {
   "cell_type": "code",
   "execution_count": 52,
   "id": "a0120228",
   "metadata": {},
   "outputs": [],
   "source": [
    "ocmv=stat.variance(oc[\"math score\"])\n",
    "ocrv=stat.variance(oc[\"reading score\"])\n",
    "ocwv=stat.variance(oc[\"writing score\"])"
   ]
  },
  {
   "cell_type": "code",
   "execution_count": 53,
   "id": "c8313702",
   "metadata": {},
   "outputs": [
    {
     "name": "stdout",
     "output_type": "stream",
     "text": [
      "Variance of no test prepartion is more in maths\n"
     ]
    }
   ],
   "source": [
    "if(onmv>ocmv):\n",
    "    print(\"Variance of no test prepartion is more in maths\")\n",
    "else:\n",
    "    print(\"variance of complete test prepartion is more in maths\")"
   ]
  },
  {
   "cell_type": "code",
   "execution_count": 54,
   "id": "4ed9fdfd",
   "metadata": {},
   "outputs": [
    {
     "name": "stdout",
     "output_type": "stream",
     "text": [
      "Variance of no test prepartion is more in reading\n"
     ]
    }
   ],
   "source": [
    "if(onrv>ocrv):\n",
    "    print(\"Variance of no test prepartion is more in reading\")\n",
    "else:\n",
    "    print(\"variance of complete test prepartion is more in reading\")"
   ]
  },
  {
   "cell_type": "code",
   "execution_count": 55,
   "id": "f7d27df2",
   "metadata": {},
   "outputs": [
    {
     "name": "stdout",
     "output_type": "stream",
     "text": [
      "Variance of no test prepartion is more in writing\n"
     ]
    }
   ],
   "source": [
    "if(onwv>ocwv):\n",
    "    print(\"Variance of no test prepartion is more in writing\")\n",
    "else:\n",
    "    print(\"variance of complete test prepartion is more in writing\")"
   ]
  },
  {
   "cell_type": "code",
   "execution_count": 56,
   "id": "c2cf6bf2",
   "metadata": {},
   "outputs": [],
   "source": [
    "#Question 5 bonus points to the top 25 percent of students based on their maths score"
   ]
  },
  {
   "cell_type": "code",
   "execution_count": 57,
   "id": "106736be",
   "metadata": {},
   "outputs": [
    {
     "data": {
      "text/plain": [
       "77.0"
      ]
     },
     "execution_count": 57,
     "metadata": {},
     "output_type": "execute_result"
    }
   ],
   "source": [
    "tops=oo['math score'].quantile(0.75)\n",
    "tops"
   ]
  },
  {
   "cell_type": "code",
   "execution_count": 58,
   "id": "2257fdc2",
   "metadata": {},
   "outputs": [],
   "source": [
    "topsort=oo.sort_values(by='math score',ascending=False)"
   ]
  },
  {
   "cell_type": "code",
   "execution_count": 59,
   "id": "1d539309",
   "metadata": {},
   "outputs": [
    {
     "data": {
      "text/html": [
       "<div>\n",
       "<style scoped>\n",
       "    .dataframe tbody tr th:only-of-type {\n",
       "        vertical-align: middle;\n",
       "    }\n",
       "\n",
       "    .dataframe tbody tr th {\n",
       "        vertical-align: top;\n",
       "    }\n",
       "\n",
       "    .dataframe thead th {\n",
       "        text-align: right;\n",
       "    }\n",
       "</style>\n",
       "<table border=\"1\" class=\"dataframe\">\n",
       "  <thead>\n",
       "    <tr style=\"text-align: right;\">\n",
       "      <th></th>\n",
       "      <th>gender</th>\n",
       "      <th>race/ethnicity</th>\n",
       "      <th>parental level of education</th>\n",
       "      <th>lunch</th>\n",
       "      <th>test preparation course</th>\n",
       "      <th>math score</th>\n",
       "      <th>reading score</th>\n",
       "      <th>writing score</th>\n",
       "    </tr>\n",
       "  </thead>\n",
       "  <tbody>\n",
       "    <tr>\n",
       "      <th>999</th>\n",
       "      <td>male</td>\n",
       "      <td>group E</td>\n",
       "      <td>bachelor's degree</td>\n",
       "      <td>standard</td>\n",
       "      <td>completed</td>\n",
       "      <td>100</td>\n",
       "      <td>100</td>\n",
       "      <td>100</td>\n",
       "    </tr>\n",
       "    <tr>\n",
       "      <th>996</th>\n",
       "      <td>male</td>\n",
       "      <td>group A</td>\n",
       "      <td>some college</td>\n",
       "      <td>standard</td>\n",
       "      <td>completed</td>\n",
       "      <td>100</td>\n",
       "      <td>96</td>\n",
       "      <td>86</td>\n",
       "    </tr>\n",
       "    <tr>\n",
       "      <th>515</th>\n",
       "      <td>female</td>\n",
       "      <td>group E</td>\n",
       "      <td>some college</td>\n",
       "      <td>standard</td>\n",
       "      <td>none</td>\n",
       "      <td>100</td>\n",
       "      <td>92</td>\n",
       "      <td>97</td>\n",
       "    </tr>\n",
       "    <tr>\n",
       "      <th>517</th>\n",
       "      <td>female</td>\n",
       "      <td>group E</td>\n",
       "      <td>associate's degree</td>\n",
       "      <td>standard</td>\n",
       "      <td>none</td>\n",
       "      <td>100</td>\n",
       "      <td>100</td>\n",
       "      <td>100</td>\n",
       "    </tr>\n",
       "    <tr>\n",
       "      <th>516</th>\n",
       "      <td>female</td>\n",
       "      <td>group E</td>\n",
       "      <td>bachelor's degree</td>\n",
       "      <td>standard</td>\n",
       "      <td>none</td>\n",
       "      <td>100</td>\n",
       "      <td>100</td>\n",
       "      <td>100</td>\n",
       "    </tr>\n",
       "    <tr>\n",
       "      <th>...</th>\n",
       "      <td>...</td>\n",
       "      <td>...</td>\n",
       "      <td>...</td>\n",
       "      <td>...</td>\n",
       "      <td>...</td>\n",
       "      <td>...</td>\n",
       "      <td>...</td>\n",
       "      <td>...</td>\n",
       "    </tr>\n",
       "    <tr>\n",
       "      <th>851</th>\n",
       "      <td>male</td>\n",
       "      <td>group D</td>\n",
       "      <td>some college</td>\n",
       "      <td>standard</td>\n",
       "      <td>completed</td>\n",
       "      <td>77</td>\n",
       "      <td>62</td>\n",
       "      <td>62</td>\n",
       "    </tr>\n",
       "    <tr>\n",
       "      <th>849</th>\n",
       "      <td>male</td>\n",
       "      <td>group A</td>\n",
       "      <td>bachelor's degree</td>\n",
       "      <td>standard</td>\n",
       "      <td>none</td>\n",
       "      <td>77</td>\n",
       "      <td>67</td>\n",
       "      <td>68</td>\n",
       "    </tr>\n",
       "    <tr>\n",
       "      <th>850</th>\n",
       "      <td>male</td>\n",
       "      <td>group C</td>\n",
       "      <td>associate's degree</td>\n",
       "      <td>free/reduced</td>\n",
       "      <td>none</td>\n",
       "      <td>77</td>\n",
       "      <td>67</td>\n",
       "      <td>64</td>\n",
       "    </tr>\n",
       "    <tr>\n",
       "      <th>421</th>\n",
       "      <td>female</td>\n",
       "      <td>group C</td>\n",
       "      <td>some college</td>\n",
       "      <td>free/reduced</td>\n",
       "      <td>none</td>\n",
       "      <td>77</td>\n",
       "      <td>90</td>\n",
       "      <td>91</td>\n",
       "    </tr>\n",
       "    <tr>\n",
       "      <th>414</th>\n",
       "      <td>female</td>\n",
       "      <td>group A</td>\n",
       "      <td>high school</td>\n",
       "      <td>free/reduced</td>\n",
       "      <td>completed</td>\n",
       "      <td>77</td>\n",
       "      <td>88</td>\n",
       "      <td>85</td>\n",
       "    </tr>\n",
       "  </tbody>\n",
       "</table>\n",
       "<p>255 rows × 8 columns</p>\n",
       "</div>"
      ],
      "text/plain": [
       "     gender race/ethnicity parental level of education         lunch  \\\n",
       "999    male        group E           bachelor's degree      standard   \n",
       "996    male        group A                some college      standard   \n",
       "515  female        group E                some college      standard   \n",
       "517  female        group E          associate's degree      standard   \n",
       "516  female        group E           bachelor's degree      standard   \n",
       "..      ...            ...                         ...           ...   \n",
       "851    male        group D                some college      standard   \n",
       "849    male        group A           bachelor's degree      standard   \n",
       "850    male        group C          associate's degree  free/reduced   \n",
       "421  female        group C                some college  free/reduced   \n",
       "414  female        group A                 high school  free/reduced   \n",
       "\n",
       "    test preparation course  math score  reading score  writing score  \n",
       "999               completed         100            100            100  \n",
       "996               completed         100             96             86  \n",
       "515                    none         100             92             97  \n",
       "517                    none         100            100            100  \n",
       "516                    none         100            100            100  \n",
       "..                      ...         ...            ...            ...  \n",
       "851               completed          77             62             62  \n",
       "849                    none          77             67             68  \n",
       "850                    none          77             67             64  \n",
       "421                    none          77             90             91  \n",
       "414               completed          77             88             85  \n",
       "\n",
       "[255 rows x 8 columns]"
      ]
     },
     "execution_count": 59,
     "metadata": {},
     "output_type": "execute_result"
    }
   ],
   "source": [
    "topsort.loc[topsort['math score']>=tops]"
   ]
  },
  {
   "cell_type": "code",
   "execution_count": null,
   "id": "787856fa",
   "metadata": {},
   "outputs": [],
   "source": []
  }
 ],
 "metadata": {
  "kernelspec": {
   "display_name": "Python 3 (ipykernel)",
   "language": "python",
   "name": "python3"
  },
  "language_info": {
   "codemirror_mode": {
    "name": "ipython",
    "version": 3
   },
   "file_extension": ".py",
   "mimetype": "text/x-python",
   "name": "python",
   "nbconvert_exporter": "python",
   "pygments_lexer": "ipython3",
   "version": "3.10.4"
  }
 },
 "nbformat": 4,
 "nbformat_minor": 5
}
