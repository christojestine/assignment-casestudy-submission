{
 "cells": [
  {
   "cell_type": "code",
   "execution_count": 1,
   "id": "8f3e2a6e",
   "metadata": {},
   "outputs": [],
   "source": [
    "import pandas as pd\n",
    "import matplotlib.pyplot as plt\n",
    "import numpy as np\n",
    "import seaborn as sns\n",
    "%matplotlib inline"
   ]
  },
  {
   "cell_type": "markdown",
   "id": "d00c93bd",
   "metadata": {},
   "source": [
    "# 1.Reading the dataset to Python environment"
   ]
  },
  {
   "cell_type": "code",
   "execution_count": 2,
   "id": "7e654591",
   "metadata": {},
   "outputs": [],
   "source": [
    "#Reading Data set"
   ]
  },
  {
   "cell_type": "code",
   "execution_count": 3,
   "id": "e5f0fd76",
   "metadata": {},
   "outputs": [
    {
     "data": {
      "text/html": [
       "<div>\n",
       "<style scoped>\n",
       "    .dataframe tbody tr th:only-of-type {\n",
       "        vertical-align: middle;\n",
       "    }\n",
       "\n",
       "    .dataframe tbody tr th {\n",
       "        vertical-align: top;\n",
       "    }\n",
       "\n",
       "    .dataframe thead th {\n",
       "        text-align: right;\n",
       "    }\n",
       "</style>\n",
       "<table border=\"1\" class=\"dataframe\">\n",
       "  <thead>\n",
       "    <tr style=\"text-align: right;\">\n",
       "      <th></th>\n",
       "      <th>SL</th>\n",
       "      <th>SW</th>\n",
       "      <th>PL</th>\n",
       "      <th>PW</th>\n",
       "      <th>Classification</th>\n",
       "    </tr>\n",
       "  </thead>\n",
       "  <tbody>\n",
       "    <tr>\n",
       "      <th>0</th>\n",
       "      <td>5.1</td>\n",
       "      <td>3.5</td>\n",
       "      <td>1.4</td>\n",
       "      <td>0.2</td>\n",
       "      <td>Iris-setosa</td>\n",
       "    </tr>\n",
       "    <tr>\n",
       "      <th>1</th>\n",
       "      <td>4.9</td>\n",
       "      <td>3.0</td>\n",
       "      <td>1.4</td>\n",
       "      <td>0.2</td>\n",
       "      <td>Iris-setosa</td>\n",
       "    </tr>\n",
       "    <tr>\n",
       "      <th>2</th>\n",
       "      <td>NaN</td>\n",
       "      <td>3.2</td>\n",
       "      <td>1.3</td>\n",
       "      <td>0.2</td>\n",
       "      <td>Iris-setosa</td>\n",
       "    </tr>\n",
       "    <tr>\n",
       "      <th>3</th>\n",
       "      <td>4.6</td>\n",
       "      <td>3.1</td>\n",
       "      <td>1.5</td>\n",
       "      <td>0.2</td>\n",
       "      <td>Iris-setosa</td>\n",
       "    </tr>\n",
       "    <tr>\n",
       "      <th>4</th>\n",
       "      <td>5.0</td>\n",
       "      <td>3.6</td>\n",
       "      <td>1.4</td>\n",
       "      <td>0.2</td>\n",
       "      <td>Iris-setosa</td>\n",
       "    </tr>\n",
       "  </tbody>\n",
       "</table>\n",
       "</div>"
      ],
      "text/plain": [
       "    SL   SW   PL   PW Classification\n",
       "0  5.1  3.5  1.4  0.2    Iris-setosa\n",
       "1  4.9  3.0  1.4  0.2    Iris-setosa\n",
       "2  NaN  3.2  1.3  0.2    Iris-setosa\n",
       "3  4.6  3.1  1.5  0.2    Iris-setosa\n",
       "4  5.0  3.6  1.4  0.2    Iris-setosa"
      ]
     },
     "execution_count": 3,
     "metadata": {},
     "output_type": "execute_result"
    }
   ],
   "source": [
    "data=pd.read_excel(r\"D:\\ICT Academy\\Machine Learning\\classification\\assignment\\iris.xls\")\n",
    "data.head()"
   ]
  },
  {
   "cell_type": "markdown",
   "id": "66fe9c4c",
   "metadata": {},
   "source": [
    "# 2.Doing necessary preprocessing steps"
   ]
  },
  {
   "cell_type": "code",
   "execution_count": 4,
   "id": "a4fdb083",
   "metadata": {},
   "outputs": [],
   "source": [
    "#Preprocessing"
   ]
  },
  {
   "cell_type": "code",
   "execution_count": 5,
   "id": "73cdb238",
   "metadata": {},
   "outputs": [],
   "source": [
    "#Checking for null values"
   ]
  },
  {
   "cell_type": "code",
   "execution_count": 6,
   "id": "fafb329a",
   "metadata": {},
   "outputs": [
    {
     "data": {
      "text/plain": [
       "SL                7\n",
       "SW                6\n",
       "PL                6\n",
       "PW                0\n",
       "Classification    0\n",
       "dtype: int64"
      ]
     },
     "execution_count": 6,
     "metadata": {},
     "output_type": "execute_result"
    }
   ],
   "source": [
    "data.isnull().sum()"
   ]
  },
  {
   "cell_type": "code",
   "execution_count": 7,
   "id": "77e5392a",
   "metadata": {},
   "outputs": [],
   "source": [
    "#we are identifying the method which we need to fill the values"
   ]
  },
  {
   "cell_type": "code",
   "execution_count": 8,
   "id": "0cf14ab8",
   "metadata": {},
   "outputs": [
    {
     "data": {
      "image/png": "[encoded data removed]",
      "text/plain": [
       "<Figure size 1440x432 with 3 Axes>"
      ]
     },
     "metadata": {
      "needs_background": "light"
     },
     "output_type": "display_data"
    }
   ],
   "source": [
    "plt.figure(figsize=(20,6))\n",
    "plt.subplot(1,3,1)\n",
    "plt.hist(data['SL'])\n",
    "plt.xlabel('SL')\n",
    "plt.subplot(1,3,2)\n",
    "plt.hist(data['SW'])\n",
    "plt.xlabel('SW')\n",
    "plt.subplot(1,3,3)\n",
    "plt.hist(data['PL'])\n",
    "plt.xlabel('PL')\n",
    "plt.show()"
   ]
  },
  {
   "cell_type": "code",
   "execution_count": 9,
   "id": "e45d3c7e",
   "metadata": {},
   "outputs": [],
   "source": [
    "#we can fill all the missing values with median as all the graph are skewed"
   ]
  },
  {
   "cell_type": "code",
   "execution_count": 10,
   "id": "c23babe5",
   "metadata": {},
   "outputs": [],
   "source": [
    "#filling of null values by the correspoinding values"
   ]
  },
  {
   "cell_type": "code",
   "execution_count": 11,
   "id": "65605de8",
   "metadata": {},
   "outputs": [
    {
     "data": {
      "text/plain": [
       "SL                0\n",
       "SW                0\n",
       "PL                0\n",
       "PW                0\n",
       "Classification    0\n",
       "dtype: int64"
      ]
     },
     "execution_count": 11,
     "metadata": {},
     "output_type": "execute_result"
    }
   ],
   "source": [
    "for i in ['SL']:\n",
    "    data[i]=data[i].fillna(data[i].median())\n",
    "for i in ['SW']:\n",
    "    data[i]=data[i].fillna(data[i].median())\n",
    "for i in ['PL']:\n",
    "    data[i]=data[i].fillna(data[i].median())\n",
    "data.isnull().sum()"
   ]
  },
  {
   "cell_type": "code",
   "execution_count": 12,
   "id": "17f11974",
   "metadata": {},
   "outputs": [],
   "source": [
    "#checking for any outliers"
   ]
  },
  {
   "cell_type": "code",
   "execution_count": 13,
   "id": "d099c20d",
   "metadata": {},
   "outputs": [
    {
     "data": {
      "image/png": "[encoded data removed]",
      "text/plain": [
       "<Figure size 1440x432 with 3 Axes>"
      ]
     },
     "metadata": {
      "needs_background": "light"
     },
     "output_type": "display_data"
    }
   ],
   "source": [
    "plt.figure(figsize=(20,6))\n",
    "plt.subplot(1,3,1)\n",
    "plt.boxplot(data['SL'])\n",
    "plt.subplot(1,3,2)\n",
    "plt.boxplot(data['SW'])\n",
    "plt.subplot(1,3,3)\n",
    "plt.boxplot(data['PL'])\n",
    "plt.show()"
   ]
  },
  {
   "cell_type": "code",
   "execution_count": 14,
   "id": "32768ba8",
   "metadata": {},
   "outputs": [],
   "source": [
    "#We can identify some outliers in the SW column"
   ]
  },
  {
   "cell_type": "code",
   "execution_count": 15,
   "id": "dea0d1b7",
   "metadata": {},
   "outputs": [
    {
     "name": "stdout",
     "output_type": "stream",
     "text": [
      "IQR= 0.45\n",
      "The upper limit= 3.925\n",
      "The lower limit= 2.125\n",
      "The outlier values\n",
      "[4.0, 4.4, 4.1, 4.2, 2.0]\n"
     ]
    },
    {
     "name": "stderr",
     "output_type": "stream",
     "text": [
      "C:\\Users\\chris\\AppData\\Local\\Temp\\ipykernel_13780\\434355148.py:1: DeprecationWarning: the `interpolation=` argument to percentile was renamed to `method=`, which has additional options.\n",
      "Users of the modes 'nearest', 'lower', 'higher', or 'midpoint' are encouraged to review the method they. (Deprecated NumPy 1.22)\n",
      "  Q1=np.percentile(data['SW'],25,interpolation='midpoint')\n",
      "C:\\Users\\chris\\AppData\\Local\\Temp\\ipykernel_13780\\434355148.py:2: DeprecationWarning: the `interpolation=` argument to percentile was renamed to `method=`, which has additional options.\n",
      "Users of the modes 'nearest', 'lower', 'higher', or 'midpoint' are encouraged to review the method they. (Deprecated NumPy 1.22)\n",
      "  Q2=np.percentile(data['SW'],50,interpolation='midpoint')\n",
      "C:\\Users\\chris\\AppData\\Local\\Temp\\ipykernel_13780\\434355148.py:3: DeprecationWarning: the `interpolation=` argument to percentile was renamed to `method=`, which has additional options.\n",
      "Users of the modes 'nearest', 'lower', 'higher', or 'midpoint' are encouraged to review the method they. (Deprecated NumPy 1.22)\n",
      "  Q3=np.percentile(data['SW'],75,interpolation='midpoint')\n"
     ]
    }
   ],
   "source": [
    "Q1=np.percentile(data['SW'],25,interpolation='midpoint')\n",
    "Q2=np.percentile(data['SW'],50,interpolation='midpoint')\n",
    "Q3=np.percentile(data['SW'],75,interpolation='midpoint')\n",
    "IQR=Q3-Q1\n",
    "print('IQR=',round(IQR,4))\n",
    "upperlimit=Q3+1.5*IQR\n",
    "lowerlimit=Q1-1.5*IQR\n",
    "print(\"The upper limit=\",round(upperlimit,5))\n",
    "print(\"The lower limit=\",round(lowerlimit,5))\n",
    "outlier=[]\n",
    "for i in data['SW']:\n",
    "    if(i>upperlimit) or (i<lowerlimit):\n",
    "        outlier.append(i)\n",
    "print(\"The outlier values\")\n",
    "print(outlier)\n"
   ]
  },
  {
   "cell_type": "code",
   "execution_count": 16,
   "id": "c1b22e32",
   "metadata": {},
   "outputs": [
    {
     "data": {
      "text/plain": [
       "(150, 5)"
      ]
     },
     "execution_count": 16,
     "metadata": {},
     "output_type": "execute_result"
    }
   ],
   "source": [
    "data.shape\n"
   ]
  },
  {
   "cell_type": "code",
   "execution_count": 17,
   "id": "9beca548",
   "metadata": {},
   "outputs": [],
   "source": [
    "#as the data set is too small and the no outliers is too small we are not removing the outliers"
   ]
  },
  {
   "cell_type": "code",
   "execution_count": 18,
   "id": "88bfd592",
   "metadata": {},
   "outputs": [
    {
     "data": {
      "text/html": [
       "<div>\n",
       "<style scoped>\n",
       "    .dataframe tbody tr th:only-of-type {\n",
       "        vertical-align: middle;\n",
       "    }\n",
       "\n",
       "    .dataframe tbody tr th {\n",
       "        vertical-align: top;\n",
       "    }\n",
       "\n",
       "    .dataframe thead th {\n",
       "        text-align: right;\n",
       "    }\n",
       "</style>\n",
       "<table border=\"1\" class=\"dataframe\">\n",
       "  <thead>\n",
       "    <tr style=\"text-align: right;\">\n",
       "      <th></th>\n",
       "      <th>SL</th>\n",
       "      <th>SW</th>\n",
       "      <th>PL</th>\n",
       "      <th>PW</th>\n",
       "      <th>Classification</th>\n",
       "    </tr>\n",
       "  </thead>\n",
       "  <tbody>\n",
       "    <tr>\n",
       "      <th>0</th>\n",
       "      <td>5.1</td>\n",
       "      <td>3.5</td>\n",
       "      <td>1.4</td>\n",
       "      <td>0.2</td>\n",
       "      <td>Iris-setosa</td>\n",
       "    </tr>\n",
       "    <tr>\n",
       "      <th>1</th>\n",
       "      <td>4.9</td>\n",
       "      <td>3.0</td>\n",
       "      <td>1.4</td>\n",
       "      <td>0.2</td>\n",
       "      <td>Iris-setosa</td>\n",
       "    </tr>\n",
       "    <tr>\n",
       "      <th>2</th>\n",
       "      <td>5.8</td>\n",
       "      <td>3.2</td>\n",
       "      <td>1.3</td>\n",
       "      <td>0.2</td>\n",
       "      <td>Iris-setosa</td>\n",
       "    </tr>\n",
       "    <tr>\n",
       "      <th>3</th>\n",
       "      <td>4.6</td>\n",
       "      <td>3.1</td>\n",
       "      <td>1.5</td>\n",
       "      <td>0.2</td>\n",
       "      <td>Iris-setosa</td>\n",
       "    </tr>\n",
       "    <tr>\n",
       "      <th>4</th>\n",
       "      <td>5.0</td>\n",
       "      <td>3.6</td>\n",
       "      <td>1.4</td>\n",
       "      <td>0.2</td>\n",
       "      <td>Iris-setosa</td>\n",
       "    </tr>\n",
       "  </tbody>\n",
       "</table>\n",
       "</div>"
      ],
      "text/plain": [
       "    SL   SW   PL   PW Classification\n",
       "0  5.1  3.5  1.4  0.2    Iris-setosa\n",
       "1  4.9  3.0  1.4  0.2    Iris-setosa\n",
       "2  5.8  3.2  1.3  0.2    Iris-setosa\n",
       "3  4.6  3.1  1.5  0.2    Iris-setosa\n",
       "4  5.0  3.6  1.4  0.2    Iris-setosa"
      ]
     },
     "execution_count": 18,
     "metadata": {},
     "output_type": "execute_result"
    }
   ],
   "source": [
    "data2=data\n",
    "data2.head()"
   ]
  },
  {
   "cell_type": "code",
   "execution_count": 19,
   "id": "b22d0b56",
   "metadata": {},
   "outputs": [
    {
     "data": {
      "text/plain": [
       "SL                0\n",
       "SW                0\n",
       "PL                0\n",
       "PW                0\n",
       "Classification    0\n",
       "dtype: int64"
      ]
     },
     "execution_count": 19,
     "metadata": {},
     "output_type": "execute_result"
    }
   ],
   "source": [
    "data2.isnull().sum()"
   ]
  },
  {
   "cell_type": "markdown",
   "id": "e97d2d20",
   "metadata": {},
   "source": [
    "# 3.Finding out the classification model which provides the best results"
   ]
  },
  {
   "cell_type": "code",
   "execution_count": 20,
   "id": "9bc674d5",
   "metadata": {},
   "outputs": [],
   "source": [
    "#spliting the data"
   ]
  },
  {
   "cell_type": "code",
   "execution_count": 21,
   "id": "4d1c8c41",
   "metadata": {},
   "outputs": [],
   "source": [
    "X=data2.drop('Classification',axis=1)\n",
    "Y=data2['Classification']"
   ]
  },
  {
   "cell_type": "code",
   "execution_count": 22,
   "id": "a76f9293",
   "metadata": {},
   "outputs": [],
   "source": [
    "from sklearn.model_selection import train_test_split"
   ]
  },
  {
   "cell_type": "code",
   "execution_count": 23,
   "id": "d36cc269",
   "metadata": {},
   "outputs": [],
   "source": [
    "X_train,X_test,Y_train,Y_test=train_test_split(X,Y,test_size=0.2,random_state=42)"
   ]
  },
  {
   "cell_type": "code",
   "execution_count": 24,
   "id": "abe37ff3",
   "metadata": {},
   "outputs": [],
   "source": [
    "#Classification models"
   ]
  },
  {
   "cell_type": "code",
   "execution_count": 25,
   "id": "c99c6e52",
   "metadata": {},
   "outputs": [],
   "source": [
    "#1. logistic regression "
   ]
  },
  {
   "cell_type": "code",
   "execution_count": 26,
   "id": "3895ba69",
   "metadata": {},
   "outputs": [],
   "source": [
    "from sklearn.linear_model import LogisticRegression"
   ]
  },
  {
   "cell_type": "code",
   "execution_count": 27,
   "id": "ea3560d8",
   "metadata": {},
   "outputs": [
    {
     "name": "stderr",
     "output_type": "stream",
     "text": [
      "C:\\Python\\lib\\site-packages\\sklearn\\linear_model\\_logistic.py:444: ConvergenceWarning: lbfgs failed to converge (status=1):\n",
      "STOP: TOTAL NO. of ITERATIONS REACHED LIMIT.\n",
      "\n",
      "Increase the number of iterations (max_iter) or scale the data as shown in:\n",
      "    https://scikit-learn.org/stable/modules/preprocessing.html\n",
      "Please also refer to the documentation for alternative solver options:\n",
      "    https://scikit-learn.org/stable/modules/linear_model.html#logistic-regression\n",
      "  n_iter_i = _check_optimize_result(\n"
     ]
    }
   ],
   "source": [
    "Lr=LogisticRegression()\n",
    "Lr_model=Lr.fit(X_train,Y_train)\n",
    "Y_Lr_predict=Lr_model.predict(X_test)"
   ]
  },
  {
   "cell_type": "code",
   "execution_count": 28,
   "id": "3670a0b6",
   "metadata": {},
   "outputs": [],
   "source": [
    "from sklearn.metrics import confusion_matrix,accuracy_score"
   ]
  },
  {
   "cell_type": "code",
   "execution_count": 29,
   "id": "43f8896b",
   "metadata": {},
   "outputs": [
    {
     "data": {
      "text/plain": [
       "array([[10,  0,  0],\n",
       "       [ 0,  9,  0],\n",
       "       [ 0,  0, 11]], dtype=int64)"
      ]
     },
     "execution_count": 29,
     "metadata": {},
     "output_type": "execute_result"
    }
   ],
   "source": [
    "confusion_matrix(Y_test,Y_Lr_predict)"
   ]
  },
  {
   "cell_type": "code",
   "execution_count": 30,
   "id": "c03f51cc",
   "metadata": {},
   "outputs": [
    {
     "name": "stdout",
     "output_type": "stream",
     "text": [
      "The Accurcy Score of Logistic Regression without scaling= 1.0\n"
     ]
    }
   ],
   "source": [
    "acc_lr=accuracy_score(Y_test,Y_Lr_predict)\n",
    "print('The Accurcy Score of Logistic Regression without scaling=',round(acc_lr,5))"
   ]
  },
  {
   "cell_type": "code",
   "execution_count": 31,
   "id": "909fc6f8",
   "metadata": {},
   "outputs": [],
   "source": [
    "#2.KNN"
   ]
  },
  {
   "cell_type": "code",
   "execution_count": 32,
   "id": "7fb0389d",
   "metadata": {},
   "outputs": [],
   "source": [
    "from sklearn.neighbors import KNeighborsClassifier"
   ]
  },
  {
   "cell_type": "code",
   "execution_count": 33,
   "id": "7ff7b7f4",
   "metadata": {},
   "outputs": [],
   "source": [
    "metric_k=[]\n",
    "neighbors=range(3,15)\n",
    "for k in neighbors:\n",
    "    Classifier=KNeighborsClassifier(n_neighbors=k)\n",
    "    Classifier=Classifier.fit(X_train,Y_train)\n",
    "    Y_KNN_predict=Classifier.predict(X_test)\n",
    "    acc=accuracy_score(Y_test,Y_KNN_predict)\n",
    "    metric_k.append(acc)"
   ]
  },
  {
   "cell_type": "code",
   "execution_count": 34,
   "id": "32b3c5f9",
   "metadata": {},
   "outputs": [
    {
     "data": {
      "image/png": "[encoded data removed]",
      "text/plain": [
       "<Figure size 432x288 with 1 Axes>"
      ]
     },
     "metadata": {
      "needs_background": "light"
     },
     "output_type": "display_data"
    }
   ],
   "source": [
    "plt.plot(neighbors,metric_k,'o-')\n",
    "plt.xlabel('Neighbors')\n",
    "plt.ylabel('Accuracy')\n",
    "plt.grid()"
   ]
  },
  {
   "cell_type": "code",
   "execution_count": 35,
   "id": "b2251ed4",
   "metadata": {},
   "outputs": [],
   "source": [
    "#selecting the negibour value which gives highest accuracy"
   ]
  },
  {
   "cell_type": "code",
   "execution_count": 36,
   "id": "aa02e6fe",
   "metadata": {},
   "outputs": [],
   "source": [
    "Classifier=KNeighborsClassifier(n_neighbors=4)\n",
    "Classifier=Classifier.fit(X_train,Y_train)\n",
    "Y_KNN_predict=Classifier.predict(X_test)"
   ]
  },
  {
   "cell_type": "code",
   "execution_count": 37,
   "id": "fa8a2860",
   "metadata": {},
   "outputs": [
    {
     "data": {
      "text/plain": [
       "array([[10,  0,  0],\n",
       "       [ 0,  9,  0],\n",
       "       [ 0,  0, 11]], dtype=int64)"
      ]
     },
     "execution_count": 37,
     "metadata": {},
     "output_type": "execute_result"
    }
   ],
   "source": [
    "confusion_matrix(Y_test,Y_KNN_predict)"
   ]
  },
  {
   "cell_type": "code",
   "execution_count": 38,
   "id": "fa0a121e",
   "metadata": {},
   "outputs": [
    {
     "name": "stdout",
     "output_type": "stream",
     "text": [
      "The Accurcy Score of KNN without scaling= 1.0\n"
     ]
    }
   ],
   "source": [
    "acc_knn=accuracy_score(Y_test,Y_KNN_predict)\n",
    "print('The Accurcy Score of KNN without scaling=',round(acc_knn,5))"
   ]
  },
  {
   "cell_type": "code",
   "execution_count": 39,
   "id": "2bddc592",
   "metadata": {},
   "outputs": [],
   "source": [
    "#3. SVM method"
   ]
  },
  {
   "cell_type": "code",
   "execution_count": 40,
   "id": "6e367855",
   "metadata": {},
   "outputs": [],
   "source": [
    "from sklearn.svm import SVC"
   ]
  },
  {
   "cell_type": "code",
   "execution_count": 41,
   "id": "dd4dd487",
   "metadata": {},
   "outputs": [],
   "source": [
    "#linear Kernel"
   ]
  },
  {
   "cell_type": "code",
   "execution_count": 42,
   "id": "435fa7d5",
   "metadata": {},
   "outputs": [],
   "source": [
    "clf_svm=SVC(kernel='linear')\n",
    "clf_svm=clf_svm.fit(X_train,Y_train)\n",
    "y_svm_predict_ln=clf_svm.predict(X_test)"
   ]
  },
  {
   "cell_type": "code",
   "execution_count": 43,
   "id": "1c547c42",
   "metadata": {},
   "outputs": [
    {
     "data": {
      "text/plain": [
       "array([[10,  0,  0],\n",
       "       [ 0,  9,  0],\n",
       "       [ 0,  0, 11]], dtype=int64)"
      ]
     },
     "execution_count": 43,
     "metadata": {},
     "output_type": "execute_result"
    }
   ],
   "source": [
    "confusion_matrix(Y_test,y_svm_predict_ln)"
   ]
  },
  {
   "cell_type": "code",
   "execution_count": 44,
   "id": "49888880",
   "metadata": {},
   "outputs": [
    {
     "name": "stdout",
     "output_type": "stream",
     "text": [
      "The Accurcy Score of SVM without scaling using linear kernel= 1.0\n"
     ]
    }
   ],
   "source": [
    "acc_svm=accuracy_score(Y_test,y_svm_predict_ln)\n",
    "print('The Accurcy Score of SVM without scaling using linear kernel=',round(acc_svm,5))"
   ]
  },
  {
   "cell_type": "code",
   "execution_count": 45,
   "id": "eeb2c4d2",
   "metadata": {},
   "outputs": [],
   "source": [
    "#rbf kernel"
   ]
  },
  {
   "cell_type": "code",
   "execution_count": 46,
   "id": "dfab02f8",
   "metadata": {},
   "outputs": [],
   "source": [
    "clf_svm=SVC(kernel='rbf')\n",
    "clf_svm=clf_svm.fit(X_train,Y_train)\n",
    "y_svm_predict_rbf=clf_svm.predict(X_test)"
   ]
  },
  {
   "cell_type": "code",
   "execution_count": 47,
   "id": "e800a9a8",
   "metadata": {},
   "outputs": [
    {
     "data": {
      "text/plain": [
       "array([[10,  0,  0],\n",
       "       [ 0,  9,  0],\n",
       "       [ 0,  0, 11]], dtype=int64)"
      ]
     },
     "execution_count": 47,
     "metadata": {},
     "output_type": "execute_result"
    }
   ],
   "source": [
    "confusion_matrix(Y_test,y_svm_predict_rbf)"
   ]
  },
  {
   "cell_type": "code",
   "execution_count": 48,
   "id": "24053004",
   "metadata": {},
   "outputs": [
    {
     "name": "stdout",
     "output_type": "stream",
     "text": [
      "The Accurcy Score of SVM without scaling using Radial Basis Function kernel= 1.0\n"
     ]
    }
   ],
   "source": [
    "acc_svm2=accuracy_score(Y_test,y_svm_predict_rbf)\n",
    "print('The Accurcy Score of SVM without scaling using Radial Basis Function kernel=',round(acc_svm2,5))"
   ]
  },
  {
   "cell_type": "code",
   "execution_count": 49,
   "id": "64b20f62",
   "metadata": {},
   "outputs": [],
   "source": [
    "#4.Decision tree method"
   ]
  },
  {
   "cell_type": "code",
   "execution_count": 50,
   "id": "dca70329",
   "metadata": {},
   "outputs": [],
   "source": [
    "from sklearn.tree import DecisionTreeClassifier"
   ]
  },
  {
   "cell_type": "code",
   "execution_count": 51,
   "id": "95983986",
   "metadata": {},
   "outputs": [],
   "source": [
    "DT_clf=DecisionTreeClassifier()\n",
    "DT_clf=DT_clf.fit(X_train,Y_train)\n",
    "Y_DT_predict=DT_clf.predict(X_test)"
   ]
  },
  {
   "cell_type": "code",
   "execution_count": 52,
   "id": "53d1629a",
   "metadata": {},
   "outputs": [
    {
     "data": {
      "text/plain": [
       "array([[10,  0,  0],\n",
       "       [ 0,  9,  0],\n",
       "       [ 0,  0, 11]], dtype=int64)"
      ]
     },
     "execution_count": 52,
     "metadata": {},
     "output_type": "execute_result"
    }
   ],
   "source": [
    "confusion_matrix(Y_test,Y_DT_predict)"
   ]
  },
  {
   "cell_type": "code",
   "execution_count": 53,
   "id": "4a3487bc",
   "metadata": {},
   "outputs": [
    {
     "name": "stdout",
     "output_type": "stream",
     "text": [
      "The Accurcy Score of Decision tree method= 1.0\n"
     ]
    }
   ],
   "source": [
    "acc_DT=accuracy_score(Y_test,Y_DT_predict)\n",
    "print('The Accurcy Score of Decision tree method=',round(acc_DT,5))"
   ]
  },
  {
   "cell_type": "code",
   "execution_count": 54,
   "id": "97884db7",
   "metadata": {},
   "outputs": [],
   "source": [
    "#5. Random Forest Method"
   ]
  },
  {
   "cell_type": "code",
   "execution_count": 55,
   "id": "ddb6209e",
   "metadata": {},
   "outputs": [],
   "source": [
    "from sklearn.ensemble import RandomForestClassifier"
   ]
  },
  {
   "cell_type": "code",
   "execution_count": 56,
   "id": "d7cd4e86",
   "metadata": {},
   "outputs": [],
   "source": [
    "RF_clf=RandomForestClassifier()\n",
    "RF_clf=RF_clf.fit(X_train,Y_train)\n",
    "Y_RF_clf_predict=RF_clf.predict(X_test)"
   ]
  },
  {
   "cell_type": "code",
   "execution_count": 57,
   "id": "6141d6a8",
   "metadata": {},
   "outputs": [
    {
     "data": {
      "text/plain": [
       "array([[10,  0,  0],\n",
       "       [ 0,  9,  0],\n",
       "       [ 0,  0, 11]], dtype=int64)"
      ]
     },
     "execution_count": 57,
     "metadata": {},
     "output_type": "execute_result"
    }
   ],
   "source": [
    "confusion_matrix(Y_test,Y_RF_clf_predict)"
   ]
  },
  {
   "cell_type": "code",
   "execution_count": 58,
   "id": "ab636259",
   "metadata": {},
   "outputs": [
    {
     "name": "stdout",
     "output_type": "stream",
     "text": [
      "The Accurcy Score of Radom Forest method= 1.0\n"
     ]
    }
   ],
   "source": [
    "acc_RF=accuracy_score(Y_test,Y_RF_clf_predict)\n",
    "print('The Accurcy Score of Radom Forest method=',round(acc_RF,5))"
   ]
  },
  {
   "cell_type": "code",
   "execution_count": 59,
   "id": "436d5321",
   "metadata": {},
   "outputs": [],
   "source": [
    "#to determine whether the scaling can make any changes to the accuracy score we finding out the accuracy score after scaling"
   ]
  },
  {
   "cell_type": "code",
   "execution_count": 60,
   "id": "f3d79926",
   "metadata": {},
   "outputs": [],
   "source": [
    "#repeating Logistic, KNN, SVM after StandardScaling and MinMaxscaling"
   ]
  },
  {
   "cell_type": "code",
   "execution_count": 61,
   "id": "bf99a6c5",
   "metadata": {},
   "outputs": [],
   "source": [
    "#logistic regression"
   ]
  },
  {
   "cell_type": "code",
   "execution_count": 62,
   "id": "0e8ae0d2",
   "metadata": {},
   "outputs": [],
   "source": [
    "from sklearn.preprocessing import StandardScaler,MinMaxScaler"
   ]
  },
  {
   "cell_type": "code",
   "execution_count": 63,
   "id": "d63fd362",
   "metadata": {},
   "outputs": [],
   "source": [
    "SS=StandardScaler()\n",
    "MM=MinMaxScaler()"
   ]
  },
  {
   "cell_type": "code",
   "execution_count": 64,
   "id": "20fd024a",
   "metadata": {},
   "outputs": [],
   "source": [
    "x_s=SS.fit_transform(X)\n",
    "x_m=MM.fit_transform(X)"
   ]
  },
  {
   "cell_type": "code",
   "execution_count": 65,
   "id": "0322d694",
   "metadata": {},
   "outputs": [],
   "source": [
    "X_train,X_test,Y_train,Y_test=train_test_split(x_s,Y,test_size=0.2,random_state=42)"
   ]
  },
  {
   "cell_type": "code",
   "execution_count": 66,
   "id": "34709e2f",
   "metadata": {},
   "outputs": [],
   "source": [
    "#logistic regression with standard scaling"
   ]
  },
  {
   "cell_type": "code",
   "execution_count": 67,
   "id": "ce07d801",
   "metadata": {},
   "outputs": [],
   "source": [
    "Lr=LogisticRegression()\n",
    "Lr_model_ss=Lr.fit(X_train,Y_train)\n",
    "Y_Lr_predict_ss=Lr_model_ss.predict(X_test)"
   ]
  },
  {
   "cell_type": "code",
   "execution_count": 68,
   "id": "a898f933",
   "metadata": {},
   "outputs": [
    {
     "data": {
      "text/plain": [
       "array([[10,  0,  0],\n",
       "       [ 0,  8,  1],\n",
       "       [ 0,  0, 11]], dtype=int64)"
      ]
     },
     "execution_count": 68,
     "metadata": {},
     "output_type": "execute_result"
    }
   ],
   "source": [
    "confusion_matrix(Y_test,Y_Lr_predict_ss)"
   ]
  },
  {
   "cell_type": "code",
   "execution_count": 69,
   "id": "10e79c86",
   "metadata": {},
   "outputs": [
    {
     "name": "stdout",
     "output_type": "stream",
     "text": [
      "The Accurcy Score of Logistic Regression with standard scaling= 0.96667\n"
     ]
    }
   ],
   "source": [
    "acc_lr_ss=accuracy_score(Y_test,Y_Lr_predict_ss)\n",
    "print('The Accurcy Score of Logistic Regression with standard scaling=',round(acc_lr_ss,5))"
   ]
  },
  {
   "cell_type": "code",
   "execution_count": 70,
   "id": "fdfd685d",
   "metadata": {},
   "outputs": [],
   "source": [
    "#KNN with standardscaling"
   ]
  },
  {
   "cell_type": "code",
   "execution_count": 71,
   "id": "7a6f955a",
   "metadata": {},
   "outputs": [],
   "source": [
    "metric_k=[]\n",
    "neighbors=range(3,15)\n",
    "for k in neighbors:\n",
    "    Classifier=KNeighborsClassifier(n_neighbors=k)\n",
    "    Classifier=Classifier.fit(X_train,Y_train)\n",
    "    Y_KNN_predict_ss=Classifier.predict(X_test)\n",
    "    acc=accuracy_score(Y_test,Y_KNN_predict_ss)\n",
    "    metric_k.append(acc)"
   ]
  },
  {
   "cell_type": "code",
   "execution_count": 72,
   "id": "a1e6c21a",
   "metadata": {},
   "outputs": [
    {
     "data": {
      "image/png": "[encoded data removed]",
      "text/plain": [
       "<Figure size 432x288 with 1 Axes>"
      ]
     },
     "metadata": {
      "needs_background": "light"
     },
     "output_type": "display_data"
    }
   ],
   "source": [
    "plt.plot(neighbors,metric_k,'o-')\n",
    "plt.xlabel('Neighbors')\n",
    "plt.ylabel('Accuracy')\n",
    "plt.grid()"
   ]
  },
  {
   "cell_type": "code",
   "execution_count": 73,
   "id": "c6fe859b",
   "metadata": {},
   "outputs": [],
   "source": [
    "Classifier=KNeighborsClassifier(n_neighbors=1)\n",
    "Classifier=Classifier.fit(X_train,Y_train)\n",
    "Y_KNN_predict_ss=Classifier.predict(X_test)"
   ]
  },
  {
   "cell_type": "code",
   "execution_count": 74,
   "id": "b224473e",
   "metadata": {},
   "outputs": [
    {
     "data": {
      "text/plain": [
       "array([[10,  0,  0],\n",
       "       [ 0,  9,  0],\n",
       "       [ 0,  0, 11]], dtype=int64)"
      ]
     },
     "execution_count": 74,
     "metadata": {},
     "output_type": "execute_result"
    }
   ],
   "source": [
    "confusion_matrix(Y_test,Y_KNN_predict_ss)"
   ]
  },
  {
   "cell_type": "code",
   "execution_count": 75,
   "id": "9a18c3c2",
   "metadata": {},
   "outputs": [
    {
     "name": "stdout",
     "output_type": "stream",
     "text": [
      "The Accurcy Score of KNN with standard scaling= 1.0\n"
     ]
    }
   ],
   "source": [
    "acc_knn_ss=accuracy_score(Y_test,Y_KNN_predict_ss)\n",
    "print('The Accurcy Score of KNN with standard scaling=',round(acc_knn_ss,5))"
   ]
  },
  {
   "cell_type": "code",
   "execution_count": 76,
   "id": "4b599f57",
   "metadata": {},
   "outputs": [],
   "source": [
    "#SVM method with standard scaling"
   ]
  },
  {
   "cell_type": "code",
   "execution_count": 77,
   "id": "25b6e8f5",
   "metadata": {},
   "outputs": [],
   "source": [
    "clf_svm=SVC(kernel='linear')\n",
    "clf_svm=clf_svm.fit(X_train,Y_train)\n",
    "y_svm_predict_ln_ss=clf_svm.predict(X_test)"
   ]
  },
  {
   "cell_type": "code",
   "execution_count": 78,
   "id": "83fae7a1",
   "metadata": {},
   "outputs": [
    {
     "data": {
      "text/plain": [
       "array([[10,  0,  0],\n",
       "       [ 0,  8,  1],\n",
       "       [ 0,  0, 11]], dtype=int64)"
      ]
     },
     "execution_count": 78,
     "metadata": {},
     "output_type": "execute_result"
    }
   ],
   "source": [
    "confusion_matrix(Y_test,y_svm_predict_ln_ss)"
   ]
  },
  {
   "cell_type": "code",
   "execution_count": 79,
   "id": "27a18f21",
   "metadata": {},
   "outputs": [
    {
     "name": "stdout",
     "output_type": "stream",
     "text": [
      "The Accurcy Score of SVM with standard scaling= 0.96667\n"
     ]
    }
   ],
   "source": [
    "acc_svm_ss=accuracy_score(Y_test,y_svm_predict_ln_ss)\n",
    "print('The Accurcy Score of SVM with standard scaling=',round(acc_svm_ss,5))"
   ]
  },
  {
   "cell_type": "code",
   "execution_count": 80,
   "id": "b13a74c1",
   "metadata": {},
   "outputs": [],
   "source": [
    "#repeating SVM, logistic regression and KNN after MinMaxScaling"
   ]
  },
  {
   "cell_type": "code",
   "execution_count": 81,
   "id": "54dab030",
   "metadata": {},
   "outputs": [],
   "source": [
    "#logistic regression with minmax scaling"
   ]
  },
  {
   "cell_type": "code",
   "execution_count": 82,
   "id": "567e2c43",
   "metadata": {},
   "outputs": [],
   "source": [
    "X_train,X_test,Y_train,Y_test=train_test_split(x_m,Y,test_size=0.2,random_state=42)\n",
    "Lr=LogisticRegression()\n",
    "Lr_model_mm=Lr.fit(X_train,Y_train)\n",
    "Y_Lr_predict_mm=Lr_model_mm.predict(X_test)"
   ]
  },
  {
   "cell_type": "code",
   "execution_count": 83,
   "id": "d9cb27e4",
   "metadata": {},
   "outputs": [
    {
     "data": {
      "text/plain": [
       "array([[10,  0,  0],\n",
       "       [ 0,  8,  1],\n",
       "       [ 0,  0, 11]], dtype=int64)"
      ]
     },
     "execution_count": 83,
     "metadata": {},
     "output_type": "execute_result"
    }
   ],
   "source": [
    "confusion_matrix(Y_test,Y_Lr_predict_mm)"
   ]
  },
  {
   "cell_type": "code",
   "execution_count": 84,
   "id": "c5c82566",
   "metadata": {},
   "outputs": [
    {
     "name": "stdout",
     "output_type": "stream",
     "text": [
      "The Accurcy Score of Logistic Regression with minmaxscaling= 0.96667\n"
     ]
    }
   ],
   "source": [
    "acc_lr_mm=accuracy_score(Y_test,Y_Lr_predict_mm)\n",
    "print('The Accurcy Score of Logistic Regression with minmaxscaling=',round(acc_lr_mm,5))"
   ]
  },
  {
   "cell_type": "code",
   "execution_count": 85,
   "id": "6cd6f050",
   "metadata": {},
   "outputs": [],
   "source": [
    "#KNN with min max scaling"
   ]
  },
  {
   "cell_type": "code",
   "execution_count": 86,
   "id": "33cf5896",
   "metadata": {},
   "outputs": [],
   "source": [
    "metric_k=[]\n",
    "neighbors=range(3,15)\n",
    "for k in neighbors:\n",
    "    Classifier=KNeighborsClassifier(n_neighbors=k)\n",
    "    Classifier=Classifier.fit(X_train,Y_train)\n",
    "    Y_KNN_predict_mm=Classifier.predict(X_test)\n",
    "    acc=accuracy_score(Y_test,Y_KNN_predict_mm)\n",
    "    metric_k.append(acc)"
   ]
  },
  {
   "cell_type": "code",
   "execution_count": 87,
   "id": "8b4a8579",
   "metadata": {},
   "outputs": [
    {
     "data": {
      "image/png": "[encoded data removed]",
      "text/plain": [
       "<Figure size 432x288 with 1 Axes>"
      ]
     },
     "metadata": {
      "needs_background": "light"
     },
     "output_type": "display_data"
    }
   ],
   "source": [
    "plt.plot(neighbors,metric_k,'o-')\n",
    "plt.xlabel('Neighbors')\n",
    "plt.ylabel('Accuracy')\n",
    "plt.grid()"
   ]
  },
  {
   "cell_type": "code",
   "execution_count": 88,
   "id": "1eb5fa92",
   "metadata": {},
   "outputs": [],
   "source": [
    "Classifier=KNeighborsClassifier(n_neighbors=7)\n",
    "Classifier=Classifier.fit(X_train,Y_train)\n",
    "Y_KNN_predict_mm=Classifier.predict(X_test)"
   ]
  },
  {
   "cell_type": "code",
   "execution_count": 89,
   "id": "268e5065",
   "metadata": {},
   "outputs": [
    {
     "data": {
      "text/plain": [
       "array([[10,  0,  0],\n",
       "       [ 0,  9,  0],\n",
       "       [ 0,  0, 11]], dtype=int64)"
      ]
     },
     "execution_count": 89,
     "metadata": {},
     "output_type": "execute_result"
    }
   ],
   "source": [
    "confusion_matrix(Y_test,Y_KNN_predict_mm)"
   ]
  },
  {
   "cell_type": "code",
   "execution_count": 90,
   "id": "601458b8",
   "metadata": {},
   "outputs": [
    {
     "name": "stdout",
     "output_type": "stream",
     "text": [
      "The Accurcy Score of KNN with standard scaling= 1.0\n"
     ]
    }
   ],
   "source": [
    "acc_knn_mm=accuracy_score(Y_test,Y_KNN_predict_mm)\n",
    "print('The Accurcy Score of KNN with standard scaling=',round(acc_knn_mm,5))"
   ]
  },
  {
   "cell_type": "code",
   "execution_count": 91,
   "id": "d8b8514b",
   "metadata": {},
   "outputs": [],
   "source": [
    "clf_svm=SVC(kernel='linear')\n",
    "clf_svm=clf_svm.fit(X_train,Y_train)\n",
    "y_svm_predict_ln_mm=clf_svm.predict(X_test)"
   ]
  },
  {
   "cell_type": "code",
   "execution_count": 92,
   "id": "b8fcbfcb",
   "metadata": {},
   "outputs": [
    {
     "data": {
      "text/plain": [
       "array([[10,  0,  0],\n",
       "       [ 0,  9,  0],\n",
       "       [ 0,  0, 11]], dtype=int64)"
      ]
     },
     "execution_count": 92,
     "metadata": {},
     "output_type": "execute_result"
    }
   ],
   "source": [
    "confusion_matrix(Y_test,y_svm_predict_ln_mm)"
   ]
  },
  {
   "cell_type": "code",
   "execution_count": 93,
   "id": "61e6e84e",
   "metadata": {},
   "outputs": [
    {
     "name": "stdout",
     "output_type": "stream",
     "text": [
      "The Accurcy Score of SVM with standard scaling= 1.0\n"
     ]
    }
   ],
   "source": [
    "acc_svm_mm=accuracy_score(Y_test,y_svm_predict_ln_mm)\n",
    "print('The Accurcy Score of SVM with standard scaling=',round(acc_svm_mm,5))"
   ]
  },
  {
   "cell_type": "markdown",
   "id": "17ffdfdc",
   "metadata": {},
   "source": [
    "# Conclusion"
   ]
  },
  {
   "cell_type": "markdown",
   "id": "1a03f32c",
   "metadata": {},
   "source": [
    "On executing the all 5 different classification algorithms and executing of which Logistic regression, SVM and KNN under Standard scaling and minmax scaling conditions, we came into the insight that all models other than\n",
    "\n",
    "\n",
    "1.Logistic regression after Min max scaling and Standard Scaling\n",
    "\n",
    "\n",
    "2.SVM after the standard scaling\n",
    "\n",
    "\n",
    "We got the Accuracy score as 1, In this two cases we got the accuracy score of 0.96667\n"
   ]
  },
  {
   "cell_type": "code",
   "execution_count": null,
   "id": "70dba386",
   "metadata": {},
   "outputs": [],
   "source": []
  }
 ],
 "metadata": {
  "kernelspec": {
   "display_name": "Python 3 (ipykernel)",
   "language": "python",
   "name": "python3"
  },
  "language_info": {
   "codemirror_mode": {
    "name": "ipython",
    "version": 3
   },
   "file_extension": ".py",
   "mimetype": "text/x-python",
   "name": "python",
   "nbconvert_exporter": "python",
   "pygments_lexer": "ipython3",
   "version": "3.10.4"
  }
 },
 "nbformat": 4,
 "nbformat_minor": 5
}
